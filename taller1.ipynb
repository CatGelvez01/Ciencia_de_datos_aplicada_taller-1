{
 "cells": [
  {
   "cell_type": "markdown",
   "id": "68f75e51",
   "metadata": {},
   "source": [
    "TALLER N°1 - ANIALITICA DE DATOS / ANA C. GELVEZ"
   ]
  },
  {
   "cell_type": "markdown",
   "id": "c37fcfeb",
   "metadata": {},
   "source": [
    "Importación de librerias para los pandas"
   ]
  },
  {
   "cell_type": "code",
   "execution_count": 1,
   "id": "ee2b7a9c",
   "metadata": {},
   "outputs": [],
   "source": [
    "import pandas as pd\n",
    "import numpy as np"
   ]
  },
  {
   "cell_type": "markdown",
   "id": "fc665349",
   "metadata": {},
   "source": [
    "1) **Entendimiento inicial de datos**: Usaremos pandas y numpy para hacer una exploración de los datos. Usando herramientas como top, average, standard devitation junto con read_ para importar los datos.\n",
    "\n",
    "Primero se van a importar el DATASET"
   ]
  },
  {
   "cell_type": "code",
   "execution_count": 23,
   "id": "361e512b",
   "metadata": {},
   "outputs": [
    {
     "name": "stderr",
     "output_type": "stream",
     "text": [
      "/tmp/ipykernel_30061/2908901546.py:2: DtypeWarning: Columns (24) have mixed types. Specify dtype option on import or set low_memory=False.\n",
      "  data = pd.read_csv('hotel_bookings_modified_1.csv')\n"
     ]
    }
   ],
   "source": [
    "#importing data to pandas\n",
    "data = pd.read_csv('hotel_bookings_modified_1.csv')"
   ]
  },
  {
   "cell_type": "code",
   "execution_count": 24,
   "id": "aedfb8da",
   "metadata": {},
   "outputs": [
    {
     "data": {
      "text/html": [
       "<div>\n",
       "<style scoped>\n",
       "    .dataframe tbody tr th:only-of-type {\n",
       "        vertical-align: middle;\n",
       "    }\n",
       "\n",
       "    .dataframe tbody tr th {\n",
       "        vertical-align: top;\n",
       "    }\n",
       "\n",
       "    .dataframe thead th {\n",
       "        text-align: right;\n",
       "    }\n",
       "</style>\n",
       "<table border=\"1\" class=\"dataframe\">\n",
       "  <thead>\n",
       "    <tr style=\"text-align: right;\">\n",
       "      <th></th>\n",
       "      <th>hotel</th>\n",
       "      <th>is_canceled</th>\n",
       "      <th>lead_time</th>\n",
       "      <th>arrival_date_year</th>\n",
       "      <th>arrival_date_month</th>\n",
       "      <th>arrival_date_week_number</th>\n",
       "      <th>arrival_date_day_of_month</th>\n",
       "      <th>stays_in_weekend_nights</th>\n",
       "      <th>stays_in_week_nights</th>\n",
       "      <th>adults</th>\n",
       "      <th>...</th>\n",
       "      <th>agent</th>\n",
       "      <th>company</th>\n",
       "      <th>days_in_waiting_list</th>\n",
       "      <th>customer_type</th>\n",
       "      <th>adr</th>\n",
       "      <th>required_car_parking_spaces</th>\n",
       "      <th>total_of_special_requests</th>\n",
       "      <th>reservation_status</th>\n",
       "      <th>reservation_status_date</th>\n",
       "      <th>kids</th>\n",
       "    </tr>\n",
       "  </thead>\n",
       "  <tbody>\n",
       "    <tr>\n",
       "      <th>0</th>\n",
       "      <td>Resort Hotel</td>\n",
       "      <td>0</td>\n",
       "      <td>342</td>\n",
       "      <td>2015.0</td>\n",
       "      <td>July</td>\n",
       "      <td>27</td>\n",
       "      <td>1</td>\n",
       "      <td>0</td>\n",
       "      <td>0</td>\n",
       "      <td>2</td>\n",
       "      <td>...</td>\n",
       "      <td>NaN</td>\n",
       "      <td>NaN</td>\n",
       "      <td>0.0</td>\n",
       "      <td>Transient</td>\n",
       "      <td>0.0</td>\n",
       "      <td>0.0</td>\n",
       "      <td>0.0</td>\n",
       "      <td>Check-Out</td>\n",
       "      <td>2015-07-01</td>\n",
       "      <td>NaN</td>\n",
       "    </tr>\n",
       "    <tr>\n",
       "      <th>1</th>\n",
       "      <td>Resort Hotel</td>\n",
       "      <td>0</td>\n",
       "      <td>737</td>\n",
       "      <td>2015.0</td>\n",
       "      <td>July</td>\n",
       "      <td>27</td>\n",
       "      <td>1</td>\n",
       "      <td>0</td>\n",
       "      <td>0</td>\n",
       "      <td>2</td>\n",
       "      <td>...</td>\n",
       "      <td>NaN</td>\n",
       "      <td>NaN</td>\n",
       "      <td>0.0</td>\n",
       "      <td>Transient</td>\n",
       "      <td>0.0</td>\n",
       "      <td>0.0</td>\n",
       "      <td>0.0</td>\n",
       "      <td>Check-Out</td>\n",
       "      <td>2015-07-01</td>\n",
       "      <td>NaN</td>\n",
       "    </tr>\n",
       "    <tr>\n",
       "      <th>2</th>\n",
       "      <td>Resort Hotel</td>\n",
       "      <td>0</td>\n",
       "      <td>7</td>\n",
       "      <td>2015.0</td>\n",
       "      <td>July</td>\n",
       "      <td>27</td>\n",
       "      <td>1</td>\n",
       "      <td>0</td>\n",
       "      <td>1</td>\n",
       "      <td>1</td>\n",
       "      <td>...</td>\n",
       "      <td>NaN</td>\n",
       "      <td>NaN</td>\n",
       "      <td>0.0</td>\n",
       "      <td>Transient</td>\n",
       "      <td>75.0</td>\n",
       "      <td>0.0</td>\n",
       "      <td>0.0</td>\n",
       "      <td>Check-Out</td>\n",
       "      <td>2015-07-02</td>\n",
       "      <td>NaN</td>\n",
       "    </tr>\n",
       "    <tr>\n",
       "      <th>3</th>\n",
       "      <td>Resort Hotel</td>\n",
       "      <td>0</td>\n",
       "      <td>13</td>\n",
       "      <td>2015.0</td>\n",
       "      <td>July</td>\n",
       "      <td>27</td>\n",
       "      <td>1</td>\n",
       "      <td>0</td>\n",
       "      <td>1</td>\n",
       "      <td>1</td>\n",
       "      <td>...</td>\n",
       "      <td>304.0</td>\n",
       "      <td>NaN</td>\n",
       "      <td>0.0</td>\n",
       "      <td>Transient</td>\n",
       "      <td>75.0</td>\n",
       "      <td>0.0</td>\n",
       "      <td>0.0</td>\n",
       "      <td>Check-Out</td>\n",
       "      <td>2015-07-02</td>\n",
       "      <td>NaN</td>\n",
       "    </tr>\n",
       "    <tr>\n",
       "      <th>4</th>\n",
       "      <td>Resort Hotel</td>\n",
       "      <td>0</td>\n",
       "      <td>14</td>\n",
       "      <td>2015.0</td>\n",
       "      <td>July</td>\n",
       "      <td>27</td>\n",
       "      <td>1</td>\n",
       "      <td>0</td>\n",
       "      <td>2</td>\n",
       "      <td>2</td>\n",
       "      <td>...</td>\n",
       "      <td>240.0</td>\n",
       "      <td>NaN</td>\n",
       "      <td>0.0</td>\n",
       "      <td>Transient</td>\n",
       "      <td>98.0</td>\n",
       "      <td>0.0</td>\n",
       "      <td>1.0</td>\n",
       "      <td>Check-Out</td>\n",
       "      <td>2015-07-03</td>\n",
       "      <td>NaN</td>\n",
       "    </tr>\n",
       "  </tbody>\n",
       "</table>\n",
       "<p>5 rows × 33 columns</p>\n",
       "</div>"
      ],
      "text/plain": [
       "          hotel  is_canceled  lead_time  arrival_date_year arrival_date_month  \\\n",
       "0  Resort Hotel            0        342             2015.0               July   \n",
       "1  Resort Hotel            0        737             2015.0               July   \n",
       "2  Resort Hotel            0          7             2015.0               July   \n",
       "3  Resort Hotel            0         13             2015.0               July   \n",
       "4  Resort Hotel            0         14             2015.0               July   \n",
       "\n",
       "   arrival_date_week_number  arrival_date_day_of_month  \\\n",
       "0                        27                          1   \n",
       "1                        27                          1   \n",
       "2                        27                          1   \n",
       "3                        27                          1   \n",
       "4                        27                          1   \n",
       "\n",
       "   stays_in_weekend_nights  stays_in_week_nights  adults  ...  agent  company  \\\n",
       "0                        0                     0       2  ...    NaN      NaN   \n",
       "1                        0                     0       2  ...    NaN      NaN   \n",
       "2                        0                     1       1  ...    NaN      NaN   \n",
       "3                        0                     1       1  ...  304.0      NaN   \n",
       "4                        0                     2       2  ...  240.0      NaN   \n",
       "\n",
       "  days_in_waiting_list customer_type   adr required_car_parking_spaces  \\\n",
       "0                  0.0     Transient   0.0                         0.0   \n",
       "1                  0.0     Transient   0.0                         0.0   \n",
       "2                  0.0     Transient  75.0                         0.0   \n",
       "3                  0.0     Transient  75.0                         0.0   \n",
       "4                  0.0     Transient  98.0                         0.0   \n",
       "\n",
       "   total_of_special_requests  reservation_status  reservation_status_date kids  \n",
       "0                        0.0           Check-Out               2015-07-01  NaN  \n",
       "1                        0.0           Check-Out               2015-07-01  NaN  \n",
       "2                        0.0           Check-Out               2015-07-02  NaN  \n",
       "3                        0.0           Check-Out               2015-07-02  NaN  \n",
       "4                        1.0           Check-Out               2015-07-03  NaN  \n",
       "\n",
       "[5 rows x 33 columns]"
      ]
     },
     "execution_count": 24,
     "metadata": {},
     "output_type": "execute_result"
    }
   ],
   "source": [
    "#exploring data\n",
    "data.head()"
   ]
  },
  {
   "cell_type": "code",
   "execution_count": 25,
   "id": "59fd7227",
   "metadata": {},
   "outputs": [
    {
     "data": {
      "text/html": [
       "<div>\n",
       "<style scoped>\n",
       "    .dataframe tbody tr th:only-of-type {\n",
       "        vertical-align: middle;\n",
       "    }\n",
       "\n",
       "    .dataframe tbody tr th {\n",
       "        vertical-align: top;\n",
       "    }\n",
       "\n",
       "    .dataframe thead th {\n",
       "        text-align: right;\n",
       "    }\n",
       "</style>\n",
       "<table border=\"1\" class=\"dataframe\">\n",
       "  <thead>\n",
       "    <tr style=\"text-align: right;\">\n",
       "      <th></th>\n",
       "      <th>is_canceled</th>\n",
       "      <th>lead_time</th>\n",
       "      <th>arrival_date_year</th>\n",
       "      <th>arrival_date_week_number</th>\n",
       "      <th>arrival_date_day_of_month</th>\n",
       "      <th>stays_in_weekend_nights</th>\n",
       "      <th>stays_in_week_nights</th>\n",
       "      <th>adults</th>\n",
       "      <th>children</th>\n",
       "      <th>babies</th>\n",
       "      <th>is_repeated_guest</th>\n",
       "      <th>previous_cancellations</th>\n",
       "      <th>previous_bookings_not_canceled</th>\n",
       "      <th>booking_changes</th>\n",
       "      <th>agent</th>\n",
       "      <th>days_in_waiting_list</th>\n",
       "      <th>adr</th>\n",
       "      <th>required_car_parking_spaces</th>\n",
       "      <th>total_of_special_requests</th>\n",
       "      <th>kids</th>\n",
       "    </tr>\n",
       "  </thead>\n",
       "  <tbody>\n",
       "    <tr>\n",
       "      <th>count</th>\n",
       "      <td>58895.000000</td>\n",
       "      <td>58895.000000</td>\n",
       "      <td>58307.000000</td>\n",
       "      <td>58895.000000</td>\n",
       "      <td>58895.000000</td>\n",
       "      <td>58895.000000</td>\n",
       "      <td>58895.000000</td>\n",
       "      <td>58895.000000</td>\n",
       "      <td>58891.000000</td>\n",
       "      <td>58895.000000</td>\n",
       "      <td>58895.000000</td>\n",
       "      <td>58895.000000</td>\n",
       "      <td>58895.000000</td>\n",
       "      <td>58895.000000</td>\n",
       "      <td>49763.000000</td>\n",
       "      <td>58894.000000</td>\n",
       "      <td>58894.000000</td>\n",
       "      <td>58306.000000</td>\n",
       "      <td>58894.000000</td>\n",
       "      <td>201.000000</td>\n",
       "    </tr>\n",
       "    <tr>\n",
       "      <th>mean</th>\n",
       "      <td>0.411393</td>\n",
       "      <td>100.050904</td>\n",
       "      <td>2205.522939</td>\n",
       "      <td>27.837389</td>\n",
       "      <td>15.766432</td>\n",
       "      <td>1.058154</td>\n",
       "      <td>2.847576</td>\n",
       "      <td>1.969148</td>\n",
       "      <td>0.112937</td>\n",
       "      <td>0.136599</td>\n",
       "      <td>0.030189</td>\n",
       "      <td>0.069191</td>\n",
       "      <td>0.099618</td>\n",
       "      <td>0.243009</td>\n",
       "      <td>146.983080</td>\n",
       "      <td>3.525979</td>\n",
       "      <td>96.250426</td>\n",
       "      <td>0.096697</td>\n",
       "      <td>0.512225</td>\n",
       "      <td>34.417910</td>\n",
       "    </tr>\n",
       "    <tr>\n",
       "      <th>std</th>\n",
       "      <td>0.492090</td>\n",
       "      <td>101.162420</td>\n",
       "      <td>1837.392466</td>\n",
       "      <td>13.346053</td>\n",
       "      <td>8.783036</td>\n",
       "      <td>1.093032</td>\n",
       "      <td>2.235486</td>\n",
       "      <td>2.943454</td>\n",
       "      <td>0.419710</td>\n",
       "      <td>3.115889</td>\n",
       "      <td>0.171109</td>\n",
       "      <td>1.102138</td>\n",
       "      <td>0.829166</td>\n",
       "      <td>0.695205</td>\n",
       "      <td>120.114987</td>\n",
       "      <td>21.841676</td>\n",
       "      <td>58.555599</td>\n",
       "      <td>0.300382</td>\n",
       "      <td>0.768378</td>\n",
       "      <td>38.571032</td>\n",
       "    </tr>\n",
       "    <tr>\n",
       "      <th>min</th>\n",
       "      <td>0.000000</td>\n",
       "      <td>0.000000</td>\n",
       "      <td>2015.000000</td>\n",
       "      <td>1.000000</td>\n",
       "      <td>1.000000</td>\n",
       "      <td>0.000000</td>\n",
       "      <td>0.000000</td>\n",
       "      <td>-1.000000</td>\n",
       "      <td>0.000000</td>\n",
       "      <td>-1.000000</td>\n",
       "      <td>0.000000</td>\n",
       "      <td>0.000000</td>\n",
       "      <td>0.000000</td>\n",
       "      <td>0.000000</td>\n",
       "      <td>1.000000</td>\n",
       "      <td>0.000000</td>\n",
       "      <td>-6.380000</td>\n",
       "      <td>0.000000</td>\n",
       "      <td>0.000000</td>\n",
       "      <td>-1.000000</td>\n",
       "    </tr>\n",
       "    <tr>\n",
       "      <th>25%</th>\n",
       "      <td>0.000000</td>\n",
       "      <td>17.000000</td>\n",
       "      <td>2016.000000</td>\n",
       "      <td>17.000000</td>\n",
       "      <td>8.000000</td>\n",
       "      <td>0.000000</td>\n",
       "      <td>1.000000</td>\n",
       "      <td>2.000000</td>\n",
       "      <td>0.000000</td>\n",
       "      <td>0.000000</td>\n",
       "      <td>0.000000</td>\n",
       "      <td>0.000000</td>\n",
       "      <td>0.000000</td>\n",
       "      <td>0.000000</td>\n",
       "      <td>9.000000</td>\n",
       "      <td>0.000000</td>\n",
       "      <td>60.000000</td>\n",
       "      <td>0.000000</td>\n",
       "      <td>0.000000</td>\n",
       "      <td>-1.000000</td>\n",
       "    </tr>\n",
       "    <tr>\n",
       "      <th>50%</th>\n",
       "      <td>0.000000</td>\n",
       "      <td>69.000000</td>\n",
       "      <td>2016.000000</td>\n",
       "      <td>29.000000</td>\n",
       "      <td>16.000000</td>\n",
       "      <td>1.000000</td>\n",
       "      <td>2.000000</td>\n",
       "      <td>2.000000</td>\n",
       "      <td>0.000000</td>\n",
       "      <td>0.000000</td>\n",
       "      <td>0.000000</td>\n",
       "      <td>0.000000</td>\n",
       "      <td>0.000000</td>\n",
       "      <td>0.000000</td>\n",
       "      <td>196.000000</td>\n",
       "      <td>0.000000</td>\n",
       "      <td>84.000000</td>\n",
       "      <td>0.000000</td>\n",
       "      <td>0.000000</td>\n",
       "      <td>-1.000000</td>\n",
       "    </tr>\n",
       "    <tr>\n",
       "      <th>75%</th>\n",
       "      <td>1.000000</td>\n",
       "      <td>157.000000</td>\n",
       "      <td>2016.000000</td>\n",
       "      <td>38.000000</td>\n",
       "      <td>23.000000</td>\n",
       "      <td>2.000000</td>\n",
       "      <td>4.000000</td>\n",
       "      <td>2.000000</td>\n",
       "      <td>0.000000</td>\n",
       "      <td>0.000000</td>\n",
       "      <td>0.000000</td>\n",
       "      <td>0.000000</td>\n",
       "      <td>0.000000</td>\n",
       "      <td>0.000000</td>\n",
       "      <td>240.000000</td>\n",
       "      <td>0.000000</td>\n",
       "      <td>120.000000</td>\n",
       "      <td>0.000000</td>\n",
       "      <td>1.000000</td>\n",
       "      <td>65.000000</td>\n",
       "    </tr>\n",
       "    <tr>\n",
       "      <th>max</th>\n",
       "      <td>1.000000</td>\n",
       "      <td>737.000000</td>\n",
       "      <td>20016.000000</td>\n",
       "      <td>53.000000</td>\n",
       "      <td>31.000000</td>\n",
       "      <td>19.000000</td>\n",
       "      <td>50.000000</td>\n",
       "      <td>100.000000</td>\n",
       "      <td>10.000000</td>\n",
       "      <td>100.000000</td>\n",
       "      <td>1.000000</td>\n",
       "      <td>26.000000</td>\n",
       "      <td>30.000000</td>\n",
       "      <td>20.000000</td>\n",
       "      <td>535.000000</td>\n",
       "      <td>391.000000</td>\n",
       "      <td>5400.000000</td>\n",
       "      <td>8.000000</td>\n",
       "      <td>5.000000</td>\n",
       "      <td>100.000000</td>\n",
       "    </tr>\n",
       "  </tbody>\n",
       "</table>\n",
       "</div>"
      ],
      "text/plain": [
       "        is_canceled     lead_time  arrival_date_year  \\\n",
       "count  58895.000000  58895.000000       58307.000000   \n",
       "mean       0.411393    100.050904        2205.522939   \n",
       "std        0.492090    101.162420        1837.392466   \n",
       "min        0.000000      0.000000        2015.000000   \n",
       "25%        0.000000     17.000000        2016.000000   \n",
       "50%        0.000000     69.000000        2016.000000   \n",
       "75%        1.000000    157.000000        2016.000000   \n",
       "max        1.000000    737.000000       20016.000000   \n",
       "\n",
       "       arrival_date_week_number  arrival_date_day_of_month  \\\n",
       "count              58895.000000               58895.000000   \n",
       "mean                  27.837389                  15.766432   \n",
       "std                   13.346053                   8.783036   \n",
       "min                    1.000000                   1.000000   \n",
       "25%                   17.000000                   8.000000   \n",
       "50%                   29.000000                  16.000000   \n",
       "75%                   38.000000                  23.000000   \n",
       "max                   53.000000                  31.000000   \n",
       "\n",
       "       stays_in_weekend_nights  stays_in_week_nights        adults  \\\n",
       "count             58895.000000          58895.000000  58895.000000   \n",
       "mean                  1.058154              2.847576      1.969148   \n",
       "std                   1.093032              2.235486      2.943454   \n",
       "min                   0.000000              0.000000     -1.000000   \n",
       "25%                   0.000000              1.000000      2.000000   \n",
       "50%                   1.000000              2.000000      2.000000   \n",
       "75%                   2.000000              4.000000      2.000000   \n",
       "max                  19.000000             50.000000    100.000000   \n",
       "\n",
       "           children        babies  is_repeated_guest  previous_cancellations  \\\n",
       "count  58891.000000  58895.000000       58895.000000            58895.000000   \n",
       "mean       0.112937      0.136599           0.030189                0.069191   \n",
       "std        0.419710      3.115889           0.171109                1.102138   \n",
       "min        0.000000     -1.000000           0.000000                0.000000   \n",
       "25%        0.000000      0.000000           0.000000                0.000000   \n",
       "50%        0.000000      0.000000           0.000000                0.000000   \n",
       "75%        0.000000      0.000000           0.000000                0.000000   \n",
       "max       10.000000    100.000000           1.000000               26.000000   \n",
       "\n",
       "       previous_bookings_not_canceled  booking_changes         agent  \\\n",
       "count                    58895.000000     58895.000000  49763.000000   \n",
       "mean                         0.099618         0.243009    146.983080   \n",
       "std                          0.829166         0.695205    120.114987   \n",
       "min                          0.000000         0.000000      1.000000   \n",
       "25%                          0.000000         0.000000      9.000000   \n",
       "50%                          0.000000         0.000000    196.000000   \n",
       "75%                          0.000000         0.000000    240.000000   \n",
       "max                         30.000000        20.000000    535.000000   \n",
       "\n",
       "       days_in_waiting_list           adr  required_car_parking_spaces  \\\n",
       "count          58894.000000  58894.000000                 58306.000000   \n",
       "mean               3.525979     96.250426                     0.096697   \n",
       "std               21.841676     58.555599                     0.300382   \n",
       "min                0.000000     -6.380000                     0.000000   \n",
       "25%                0.000000     60.000000                     0.000000   \n",
       "50%                0.000000     84.000000                     0.000000   \n",
       "75%                0.000000    120.000000                     0.000000   \n",
       "max              391.000000   5400.000000                     8.000000   \n",
       "\n",
       "       total_of_special_requests        kids  \n",
       "count               58894.000000  201.000000  \n",
       "mean                    0.512225   34.417910  \n",
       "std                     0.768378   38.571032  \n",
       "min                     0.000000   -1.000000  \n",
       "25%                     0.000000   -1.000000  \n",
       "50%                     0.000000   -1.000000  \n",
       "75%                     1.000000   65.000000  \n",
       "max                     5.000000  100.000000  "
      ]
     },
     "execution_count": 25,
     "metadata": {},
     "output_type": "execute_result"
    }
   ],
   "source": [
    "data.describe()"
   ]
  },
  {
   "cell_type": "code",
   "execution_count": null,
   "id": "afb17bfb",
   "metadata": {},
   "outputs": [
    {
     "name": "stdout",
     "output_type": "stream",
     "text": [
      "<class 'pandas.core.frame.DataFrame'>\n",
      "RangeIndex: 58895 entries, 0 to 58894\n",
      "Data columns (total 33 columns):\n",
      " #   Column                          Non-Null Count  Dtype  \n",
      "---  ------                          --------------  -----  \n",
      " 0   hotel                           58895 non-null  object \n",
      " 1   is_canceled                     58895 non-null  int64  \n",
      " 2   lead_time                       58895 non-null  int64  \n",
      " 3   arrival_date_year               58307 non-null  float64\n",
      " 4   arrival_date_month              58895 non-null  object \n",
      " 5   arrival_date_week_number        58895 non-null  int64  \n",
      " 6   arrival_date_day_of_month       58895 non-null  int64  \n",
      " 7   stays_in_weekend_nights         58895 non-null  int64  \n",
      " 8   stays_in_week_nights            58895 non-null  int64  \n",
      " 9   adults                          58895 non-null  int64  \n",
      " 10  children                        58891 non-null  float64\n",
      " 11  babies                          58895 non-null  int64  \n",
      " 12  meal                            58895 non-null  object \n",
      " 13  country                         58417 non-null  object \n",
      " 14  market_segment                  58895 non-null  object \n",
      " 15  distribution_channel            58895 non-null  object \n",
      " 16  is_repeated_guest               58895 non-null  int64  \n",
      " 17  previous_cancellations          58895 non-null  int64  \n",
      " 18  previous_bookings_not_canceled  58895 non-null  int64  \n",
      " 19  reserved_room_type              58895 non-null  object \n",
      " 20  assigned_room_type              58895 non-null  object \n",
      " 21  booking_changes                 58895 non-null  int64  \n",
      " 22  deposit_type                    58895 non-null  object \n",
      " 23  agent                           49763 non-null  float64\n",
      " 24  company                         3479 non-null   object \n",
      " 25  days_in_waiting_list            58894 non-null  float64\n",
      " 26  customer_type                   58306 non-null  object \n",
      " 27  adr                             58894 non-null  float64\n",
      " 28  required_car_parking_spaces     58306 non-null  float64\n",
      " 29  total_of_special_requests       58894 non-null  float64\n",
      " 30  reservation_status              58306 non-null  object \n",
      " 31  reservation_status_date         58894 non-null  object \n",
      " 32  kids                            201 non-null    float64\n",
      "dtypes: float64(8), int64(12), object(13)\n",
      "memory usage: 14.8+ MB\n"
     ]
    }
   ],
   "source": [
    "#Tipos de datos por columna\n",
    "\n",
    "data.dtypes\n",
    "data.info()\n"
   ]
  },
  {
   "cell_type": "markdown",
   "id": "d72c1826",
   "metadata": {},
   "source": [
    "**Analisis de atributos**\n",
    "- Los atributos que se escogieron para el estudio para un primer acercamiento son las columnas de Hotel, Is_cancel, stays_in_weekend_nights, stays_in_week_nights y adults.  \n"
   ]
  },
  {
   "cell_type": "markdown",
   "id": "1b7b1340",
   "metadata": {},
   "source": [
    "**1. HOTEL**"
   ]
  },
  {
   "cell_type": "code",
   "execution_count": null,
   "id": "d5bd43ed",
   "metadata": {},
   "outputs": [
    {
     "name": "stdout",
     "output_type": "stream",
     "text": [
      "0        Resort Hotel\n",
      "1        Resort Hotel\n",
      "2        Resort Hotel\n",
      "3        Resort Hotel\n",
      "4        Resort Hotel\n",
      "             ...     \n",
      "58890    Resort Hotel\n",
      "58891    Resort Hotel\n",
      "58892      City Hotel\n",
      "58893    Resort Hotel\n",
      "58894      City Hotel\n",
      "Name: hotel, Length: 58895, dtype: object\n"
     ]
    }
   ],
   "source": [
    "# La colunna 'hotel' es de tipo object, se convertirá a tipo entero con el fin de análisis univariado.\n",
    "\n",
    "print(data[\"hotel\"])"
   ]
  },
  {
   "cell_type": "code",
   "execution_count": null,
   "id": "5d171935",
   "metadata": {},
   "outputs": [
    {
     "name": "stdout",
     "output_type": "stream",
     "text": [
      "              hotel  hotel_int\n",
      "0      Resort Hotel          0\n",
      "1      Resort Hotel          0\n",
      "2      Resort Hotel          0\n",
      "3      Resort Hotel          0\n",
      "4      Resort Hotel          0\n",
      "...             ...        ...\n",
      "58890  Resort Hotel          0\n",
      "58891  Resort Hotel          0\n",
      "58892    City Hotel          1\n",
      "58893  Resort Hotel          0\n",
      "58894    City Hotel          1\n",
      "\n",
      "[58895 rows x 2 columns]\n"
     ]
    }
   ],
   "source": [
    "# Para convertir la columna 'hotel' de object a entero, se utiliza la función factorize de pandas.\n",
    "# Esta función asigna un número entero único a cada categoría en la columna.\n",
    "# Se crea una nueva columna 'hotel_int' para almacenar estos valores enteros.\n",
    "# Resort Hotel se codifica como 0 y City Hotel como 1.\n",
    "\n",
    "data['hotel_int'] = pd.factorize(data['hotel'])[0]\n",
    "print(data[['hotel', 'hotel_int']])"
   ]
  },
  {
   "cell_type": "code",
   "execution_count": null,
   "id": "8ed53959",
   "metadata": {},
   "outputs": [
    {
     "name": "stdout",
     "output_type": "stream",
     "text": [
      "int64\n",
      "0        0\n",
      "1        0\n",
      "2        0\n",
      "3        0\n",
      "4        0\n",
      "        ..\n",
      "58890    0\n",
      "58891    0\n",
      "58892    1\n",
      "58893    0\n",
      "58894    1\n",
      "Name: hotel_int, Length: 58895, dtype: int64\n"
     ]
    }
   ],
   "source": [
    "#comprobando la conversión a entero de la columna 'hotel' y la creación de la nueva columna 'hotel_int'\n",
    "\n",
    "print(data['hotel_int'].dtype)\n",
    "print(data[\"hotel_int\"])"
   ]
  },
  {
   "cell_type": "code",
   "execution_count": null,
   "id": "87c55bed",
   "metadata": {},
   "outputs": [
    {
     "name": "stdout",
     "output_type": "stream",
     "text": [
      "Número de 1s: 18832\n",
      "Número de 0s: 40063\n"
     ]
    }
   ],
   "source": [
    "#Suma de los valores 0 y 1 en la columna 'hotel_int' para verificar la conversión correcta\n",
    "#Resort Hotel se codifica como 0 y City Hotel como 1.\n",
    "\n",
    "conteo_unos = (data['hotel_int'] == 1).sum()\n",
    "print(f\"Número de 1s: {conteo_unos}\")\n",
    "\n",
    "conteo_ceros = (data['hotel_int'] == 0).sum()\n",
    "print(f\"Número de 0s: {conteo_ceros}\")"
   ]
  },
  {
   "cell_type": "code",
   "execution_count": null,
   "id": "f3d4a1f7",
   "metadata": {},
   "outputs": [
    {
     "name": "stdout",
     "output_type": "stream",
     "text": [
      "Media de hotel_int: 0.31975549707105866\n"
     ]
    }
   ],
   "source": [
    "#Media (Promedio) de la columna de hotel_int\n",
    "mean_hotel_int = data['hotel_int'].mean()\n",
    "print(f\"Media de hotel_int: {mean_hotel_int}\")"
   ]
  },
  {
   "cell_type": "code",
   "execution_count": 45,
   "id": "d4b9adc2",
   "metadata": {},
   "outputs": [
    {
     "name": "stdout",
     "output_type": "stream",
     "text": [
      "Mediana de hotel_int: 0.0\n"
     ]
    }
   ],
   "source": [
    "#Mediana de la columna hotel_int\n",
    "median_hotel_int = data['hotel_int'].median()\n",
    "print(f\"Mediana de hotel_int: {median_hotel_int}\")\n"
   ]
  },
  {
   "cell_type": "code",
   "execution_count": 46,
   "id": "eb524ccd",
   "metadata": {},
   "outputs": [
    {
     "data": {
      "text/plain": [
       "count    58895.000000\n",
       "mean         0.319755\n",
       "std          0.466386\n",
       "min          0.000000\n",
       "25%          0.000000\n",
       "50%          0.000000\n",
       "75%          1.000000\n",
       "max          1.000000\n",
       "Name: hotel_int, dtype: float64"
      ]
     },
     "execution_count": 46,
     "metadata": {},
     "output_type": "execute_result"
    }
   ],
   "source": [
    "#Descripción de las metricas de la columna hotel_int \n",
    "data['hotel_int'].describe()"
   ]
  },
  {
   "cell_type": "code",
   "execution_count": 47,
   "id": "e8e987e2",
   "metadata": {},
   "outputs": [
    {
     "name": "stdout",
     "output_type": "stream",
     "text": [
      "Moda de hotel_int: 0\n"
     ]
    }
   ],
   "source": [
    "#Moda de la columna hotel_int\n",
    "mode_hotel_int = data['hotel_int'].mode()[0]\n",
    "print(f\"Moda de hotel_int: {mode_hotel_int}\")"
   ]
  },
  {
   "cell_type": "code",
   "execution_count": 55,
   "id": "1ce0d111",
   "metadata": {},
   "outputs": [
    {
     "data": {
      "image/png": "[encoded data removed]",
      "text/plain": [
       "<Figure size 640x480 with 1 Axes>"
      ]
     },
     "metadata": {},
     "output_type": "display_data"
    }
   ],
   "source": [
    "#Grafica de barras para la columna hotel_int\n",
    "grafh = data['hotel_int'].value_counts().plot(kind='pie', color=['blue', 'orange'])\n"
   ]
  },
  {
   "cell_type": "markdown",
   "id": "11960a11",
   "metadata": {},
   "source": [
    "**2. IS_CANCEL**"
   ]
  },
  {
   "cell_type": "code",
   "execution_count": null,
   "id": "b9ec08ac",
   "metadata": {},
   "outputs": [
    {
     "name": "stdout",
     "output_type": "stream",
     "text": [
      "0        0\n",
      "1        0\n",
      "2        0\n",
      "3        0\n",
      "4        0\n",
      "        ..\n",
      "58890    0\n",
      "58891    1\n",
      "58892    1\n",
      "58893    1\n",
      "58894    1\n",
      "Name: is_canceled, Length: 58895, dtype: int64\n",
      "int64\n"
     ]
    }
   ],
   "source": [
    "#columna is_canceled, parece ser binaria, 1 si la reserva fue cancelada, 0 si no lo fue. Pero en el data dictionary el tipo de dato es boolean.\n",
    "#Se verifica la columna is_canceled y se observa que contiene valores 0 y 1 como integer.\n",
    "#Estatus cancelado 1, no cancelado 0.\n",
    "\n",
    "print(data[\"is_canceled\"])\n",
    "print(data['is_canceled'].dtype)"
   ]
  },
  {
   "cell_type": "code",
   "execution_count": 58,
   "id": "66922d34",
   "metadata": {},
   "outputs": [
    {
     "name": "stdout",
     "output_type": "stream",
     "text": [
      "Media de is_canceled: 0.41139315731386367\n"
     ]
    }
   ],
   "source": [
    "#Media de la columna is_canceled\n",
    "mean_is_canceled = data['is_canceled'].mean()\n",
    "print(f\"Media de is_canceled: {mean_is_canceled}\")"
   ]
  },
  {
   "cell_type": "code",
   "execution_count": 59,
   "id": "fe639347",
   "metadata": {},
   "outputs": [
    {
     "name": "stdout",
     "output_type": "stream",
     "text": [
      "Mediana de is_canceled: 0.0\n"
     ]
    }
   ],
   "source": [
    "#mediana de la columna is_canceled\n",
    "median_is_canceled = data['is_canceled'].median()\n",
    "print(f\"Mediana de is_canceled: {median_is_canceled}\")"
   ]
  },
  {
   "cell_type": "code",
   "execution_count": 60,
   "id": "d2737028",
   "metadata": {},
   "outputs": [
    {
     "name": "stdout",
     "output_type": "stream",
     "text": [
      "Moda de is_canceled: 0\n"
     ]
    }
   ],
   "source": [
    "#moda de la columna is_canceled\n",
    "mode_is_canceled = data['is_canceled'].mode()[0]\n",
    "print(f\"Moda de is_canceled: {mode_is_canceled}\")"
   ]
  },
  {
   "cell_type": "code",
   "execution_count": 88,
   "id": "2f4ffdc5",
   "metadata": {},
   "outputs": [
    {
     "data": {
      "text/plain": [
       "count    58895.000000\n",
       "mean         0.411393\n",
       "std          0.492090\n",
       "min          0.000000\n",
       "25%          0.000000\n",
       "50%          0.000000\n",
       "75%          1.000000\n",
       "max          1.000000\n",
       "Name: is_canceled, dtype: float64"
      ]
     },
     "execution_count": 88,
     "metadata": {},
     "output_type": "execute_result"
    }
   ],
   "source": [
    "#Descripción de las metricas de la columna is_canceled\n",
    "data['is_canceled'].describe()  "
   ]
  },
  {
   "cell_type": "code",
   "execution_count": 65,
   "id": "ca1a1f7c",
   "metadata": {},
   "outputs": [
    {
     "data": {
      "image/png": "[encoded data removed]",
      "text/plain": [
       "<Figure size 640x480 with 1 Axes>"
      ]
     },
     "metadata": {},
     "output_type": "display_data"
    }
   ],
   "source": [
    "#grafica de pie para la columna is_canceled\n",
    "grafc = data['is_canceled'].value_counts().plot(kind='bar', color=['pink', 'green'])"
   ]
  },
  {
   "cell_type": "code",
   "execution_count": 68,
   "id": "cf4ba2d6",
   "metadata": {},
   "outputs": [
    {
     "data": {
      "image/png": "[encoded data removed]",
      "text/plain": [
       "<Figure size 640x480 with 1 Axes>"
      ]
     },
     "metadata": {},
     "output_type": "display_data"
    }
   ],
   "source": [
    "#Grafica de pie para la columna is_canceled\n",
    "grafc = data['is_canceled'].value_counts().plot(kind='bar', color=['yellow', 'purple'])"
   ]
  },
  {
   "cell_type": "markdown",
   "id": "68e6ddae",
   "metadata": {},
   "source": [
    "**3. Stays_in_weekend_nights**"
   ]
  },
  {
   "cell_type": "code",
   "execution_count": 70,
   "id": "bb9948ee",
   "metadata": {},
   "outputs": [
    {
     "name": "stdout",
     "output_type": "stream",
     "text": [
      "0        0\n",
      "1        0\n",
      "2        0\n",
      "3        0\n",
      "4        0\n",
      "        ..\n",
      "58890    1\n",
      "58891    2\n",
      "58892    2\n",
      "58893    1\n",
      "58894    0\n",
      "Name: stays_in_weekend_nights, Length: 58895, dtype: int64\n",
      "int64\n"
     ]
    }
   ],
   "source": [
    "#Columna Stays_in_weekend_nights\n",
    "print(data[\"stays_in_weekend_nights\"])\n",
    "print(data['stays_in_weekend_nights'].dtype)"
   ]
  },
  {
   "cell_type": "code",
   "execution_count": 74,
   "id": "def62421",
   "metadata": {},
   "outputs": [
    {
     "name": "stdout",
     "output_type": "stream",
     "text": [
      "Media de stays_in_weekend_nights: 1.0581543424738942\n"
     ]
    }
   ],
   "source": [
    "#Media de la columna Stays_in_weekend_nights \n",
    "mean_stays_in_weekend_nights = data['stays_in_weekend_nights'].mean()\n",
    "print(f\"Media de stays_in_weekend_nights: {mean_stays_in_weekend_nights}\") "
   ]
  },
  {
   "cell_type": "code",
   "execution_count": 75,
   "id": "140284b1",
   "metadata": {},
   "outputs": [
    {
     "name": "stdout",
     "output_type": "stream",
     "text": [
      "Mediana de stays_in_weekend_nights: 1.0\n"
     ]
    }
   ],
   "source": [
    "#Mediana de la columna Stays_in_weekend_nights\n",
    "median_stays_in_weekend_nights = data['stays_in_weekend_nights'].median()\n",
    "print(f\"Mediana de stays_in_weekend_nights: {median_stays_in_weekend_nights}\")\n"
   ]
  },
  {
   "cell_type": "code",
   "execution_count": 76,
   "id": "81c366ce",
   "metadata": {},
   "outputs": [
    {
     "name": "stdout",
     "output_type": "stream",
     "text": [
      "Moda de stays_in_weekend_nights: 0\n"
     ]
    }
   ],
   "source": [
    "#Moda de la columna Stays_in_weekend_nights\n",
    "mode_stays_in_weekend_nights = data['stays_in_weekend_nights'].mode()[0]\n",
    "print(f\"Moda de stays_in_weekend_nights: {mode_stays_in_weekend_nights}\")\n"
   ]
  },
  {
   "cell_type": "code",
   "execution_count": 89,
   "id": "61ec01a0",
   "metadata": {},
   "outputs": [
    {
     "data": {
      "text/plain": [
       "count    58895.000000\n",
       "mean         1.058154\n",
       "std          1.093032\n",
       "min          0.000000\n",
       "25%          0.000000\n",
       "50%          1.000000\n",
       "75%          2.000000\n",
       "max         19.000000\n",
       "Name: stays_in_weekend_nights, dtype: float64"
      ]
     },
     "execution_count": 89,
     "metadata": {},
     "output_type": "execute_result"
    }
   ],
   "source": [
    "#Descripcion de las metricas de la columna stays_in_weekend_nights\n",
    "data['stays_in_weekend_nights'].describe()  "
   ]
  },
  {
   "cell_type": "code",
   "execution_count": null,
   "id": "eb41f160",
   "metadata": {},
   "outputs": [
    {
     "data": {
      "image/png": "[encoded data removed]",
      "text/plain": [
       "<Figure size 640x480 with 1 Axes>"
      ]
     },
     "metadata": {},
     "output_type": "display_data"
    }
   ],
   "source": [
    "#Grafica de barras de la columna Stays_in_weekend_nights\n",
    "grafs = data['stays_in_weekend_nights'].value_counts().plot(kind='bar', color=['red', 'blue', 'green', 'orange', 'purple', 'yellow', 'pink', 'brown', 'gray', 'cyan'])\n"
   ]
  },
  {
   "cell_type": "code",
   "execution_count": 79,
   "id": "b70f0688",
   "metadata": {},
   "outputs": [
    {
     "data": {
      "image/png": "[encoded data removed]",
      "text/plain": [
       "<Figure size 640x480 with 1 Axes>"
      ]
     },
     "metadata": {},
     "output_type": "display_data"
    }
   ],
   "source": [
    "#Grafica de pie para la Stays_in_weekend_nights\n",
    "grafs = data['stays_in_weekend_nights'].value_counts().plot(kind='pie', autopct='%1.1f%%', colors=['red', 'blue', 'green', 'orange', 'purple', 'yellow', 'pink', 'brown', 'gray', 'cyan'])\n"
   ]
  },
  {
   "cell_type": "markdown",
   "id": "027b2a7d",
   "metadata": {},
   "source": [
    "**4. Stays_in_week_nights**"
   ]
  },
  {
   "cell_type": "code",
   "execution_count": null,
   "id": "0c145846",
   "metadata": {},
   "outputs": [
    {
     "name": "stdout",
     "output_type": "stream",
     "text": [
      "0        0\n",
      "1        0\n",
      "2        1\n",
      "3        1\n",
      "4        2\n",
      "        ..\n",
      "58890    0\n",
      "58891    2\n",
      "58892    2\n",
      "58893    3\n",
      "58894    4\n",
      "Name: stays_in_week_nights, Length: 58895, dtype: int64\n",
      "int64\n"
     ]
    }
   ],
   "source": [
    "#Columna Stays_in_week_nights\n",
    "print(data[\"stays_in_week_nights\"])\n",
    "print(data['stays_in_week_nights'].dtype)"
   ]
  },
  {
   "cell_type": "code",
   "execution_count": 81,
   "id": "f1957fc2",
   "metadata": {},
   "outputs": [
    {
     "name": "stdout",
     "output_type": "stream",
     "text": [
      "Media de stays_in_week_nights: 2.8475761949231684\n"
     ]
    }
   ],
   "source": [
    "#Media de la columna stasys_in_week_nights\n",
    "mean_stays_in_week_nights = data['stays_in_week_nights'].mean()\n",
    "print(f\"Media de stays_in_week_nights: {mean_stays_in_week_nights}\")"
   ]
  },
  {
   "cell_type": "code",
   "execution_count": 82,
   "id": "86938539",
   "metadata": {},
   "outputs": [
    {
     "name": "stdout",
     "output_type": "stream",
     "text": [
      "Mediana de stays_in_week_nights: 2.0\n"
     ]
    }
   ],
   "source": [
    "#Mediana de la columna stays_in_week_nights\n",
    "median_stays_in_week_nights = data['stays_in_week_nights'].median()\n",
    "print(f\"Mediana de stays_in_week_nights: {median_stays_in_week_nights}\")    "
   ]
  },
  {
   "cell_type": "code",
   "execution_count": 83,
   "id": "e0a544b8",
   "metadata": {},
   "outputs": [
    {
     "name": "stdout",
     "output_type": "stream",
     "text": [
      "Moda de stays_in_week_nights: 2\n"
     ]
    }
   ],
   "source": [
    "#Moda de la columna stays_in_week_nights\n",
    "mode_stays_in_week_nights = data['stays_in_week_nights'].mode()[0]\n",
    "print(f\"Moda de stays_in_week_nights: {mode_stays_in_week_nights}\")\n"
   ]
  },
  {
   "cell_type": "code",
   "execution_count": 90,
   "id": "53038d6d",
   "metadata": {},
   "outputs": [
    {
     "data": {
      "text/plain": [
       "count    58895.000000\n",
       "mean         2.847576\n",
       "std          2.235486\n",
       "min          0.000000\n",
       "25%          1.000000\n",
       "50%          2.000000\n",
       "75%          4.000000\n",
       "max         50.000000\n",
       "Name: stays_in_week_nights, dtype: float64"
      ]
     },
     "execution_count": 90,
     "metadata": {},
     "output_type": "execute_result"
    }
   ],
   "source": [
    "#Descriprción de las metricas de la columna stays_in_week_nights\n",
    "data['stays_in_week_nights'].describe() "
   ]
  },
  {
   "cell_type": "code",
   "execution_count": 84,
   "id": "ae6c624b",
   "metadata": {},
   "outputs": [
    {
     "data": {
      "image/png": "[encoded data removed]",
      "text/plain": [
       "<Figure size 640x480 with 1 Axes>"
      ]
     },
     "metadata": {},
     "output_type": "display_data"
    }
   ],
   "source": [
    "#grafica de barras de la columna stays_in_week_nights\n",
    "grafs = data['stays_in_week_nights'].value_counts().plot(kind='bar', color=['red', 'blue', 'green', 'orange', 'purple', 'yellow', 'pink', 'brown', 'gray', 'cyan'])     \n"
   ]
  },
  {
   "cell_type": "code",
   "execution_count": 85,
   "id": "f7714ed7",
   "metadata": {},
   "outputs": [
    {
     "data": {
      "image/png": "[encoded data removed]",
      "text/plain": [
       "<Figure size 640x480 with 1 Axes>"
      ]
     },
     "metadata": {},
     "output_type": "display_data"
    }
   ],
   "source": [
    "#Grafica de pie para la columna stays_in_week_nights\n",
    "grafs = data['stays_in_week_nights'].value_counts().plot(kind='pie', autopct='%1.1f%%', colors=['red', 'blue', 'green', 'orange', 'purple', 'yellow', 'pink', 'brown', 'gray', 'cyan']) \n"
   ]
  },
  {
   "cell_type": "markdown",
   "id": "af2b925a",
   "metadata": {},
   "source": [
    "**5. Adults**"
   ]
  },
  {
   "cell_type": "code",
   "execution_count": 87,
   "id": "15d8c352",
   "metadata": {},
   "outputs": [
    {
     "name": "stdout",
     "output_type": "stream",
     "text": [
      "0        2\n",
      "1        2\n",
      "2        1\n",
      "3        1\n",
      "4        2\n",
      "        ..\n",
      "58890    1\n",
      "58891    2\n",
      "58892    2\n",
      "58893    2\n",
      "58894    2\n",
      "Name: adults, Length: 58895, dtype: int64\n",
      "int64\n"
     ]
    }
   ],
   "source": [
    "#Columna de adults\n",
    "print(data[\"adults\"])\n",
    "print(data['adults'].dtype)"
   ]
  },
  {
   "cell_type": "code",
   "execution_count": 91,
   "id": "7b319b4d",
   "metadata": {},
   "outputs": [
    {
     "name": "stdout",
     "output_type": "stream",
     "text": [
      "Media de adults: 1.9691484845912217\n"
     ]
    }
   ],
   "source": [
    "#Media de la columna de adults\n",
    "mean_adults = data['adults'].mean()\n",
    "print(f\"Media de adults: {mean_adults}\")    "
   ]
  },
  {
   "cell_type": "code",
   "execution_count": 92,
   "id": "97ac7b29",
   "metadata": {},
   "outputs": [
    {
     "name": "stdout",
     "output_type": "stream",
     "text": [
      "Mediana de adults: 2.0\n"
     ]
    }
   ],
   "source": [
    "#Mediana de la columna adults\n",
    "median_adults = data['adults'].median()\n",
    "print(f\"Mediana de adults: {median_adults}\")"
   ]
  },
  {
   "cell_type": "code",
   "execution_count": 93,
   "id": "16d42363",
   "metadata": {},
   "outputs": [
    {
     "name": "stdout",
     "output_type": "stream",
     "text": [
      "Moda de adults: 2\n"
     ]
    }
   ],
   "source": [
    "#Moda de la columna adults\n",
    "mode_adults = data['adults'].mode()[0]\n",
    "print(f\"Moda de adults: {mode_adults}\")"
   ]
  },
  {
   "cell_type": "code",
   "execution_count": 94,
   "id": "58623724",
   "metadata": {},
   "outputs": [
    {
     "data": {
      "text/plain": [
       "count    58895.000000\n",
       "mean         1.969148\n",
       "std          2.943454\n",
       "min         -1.000000\n",
       "25%          2.000000\n",
       "50%          2.000000\n",
       "75%          2.000000\n",
       "max        100.000000\n",
       "Name: adults, dtype: float64"
      ]
     },
     "execution_count": 94,
     "metadata": {},
     "output_type": "execute_result"
    }
   ],
   "source": [
    "#Descripcion de la columna adults\n",
    "data['adults'].describe()   "
   ]
  },
  {
   "cell_type": "code",
   "execution_count": 95,
   "id": "05408f25",
   "metadata": {},
   "outputs": [
    {
     "data": {
      "image/png": "[encoded data removed]",
      "text/plain": [
       "<Figure size 640x480 with 1 Axes>"
      ]
     },
     "metadata": {},
     "output_type": "display_data"
    }
   ],
   "source": [
    "#Grafica de barras para la columna Adults\n",
    "grafa = data['adults'].value_counts().plot(kind='bar', color=['red', 'blue', 'green', 'orange', 'purple', 'yellow', 'pink', 'brown', 'gray', 'cyan'])   "
   ]
  },
  {
   "cell_type": "code",
   "execution_count": 96,
   "id": "e87a70eb",
   "metadata": {},
   "outputs": [
    {
     "data": {
      "image/png": "[encoded data removed]",
      "text/plain": [
       "<Figure size 640x480 with 1 Axes>"
      ]
     },
     "metadata": {},
     "output_type": "display_data"
    }
   ],
   "source": [
    "#Grafica de pie para la columna Adults\n",
    "grafa = data['adults'].value_counts().plot(kind='pie', autopct='%1.1f%%', colors=['red', 'blue', 'green', 'orange', 'purple', 'yellow', 'pink', 'brown', 'gray', 'cyan'])"
   ]
  },
  {
   "cell_type": "markdown",
   "id": "b9036275",
   "metadata": {},
   "source": [
    "**Estrategia de análisis**"
   ]
  },
  {
   "cell_type": "markdown",
   "id": "b9441d70",
   "metadata": {},
   "source": [
    "Comparativos Multivariables "
   ]
  },
  {
   "cell_type": "code",
   "execution_count": null,
   "id": "7fee023f",
   "metadata": {},
   "outputs": [],
   "source": [
    "**Desarrollo de la estrategia**"
   ]
  },
  {
   "cell_type": "code",
   "execution_count": 25,
   "id": "c84f5038",
   "metadata": {},
   "outputs": [
    {
     "data": {
      "text/plain": [
       "<Axes: ylabel='is_canceled'>"
      ]
     },
     "execution_count": 25,
     "metadata": {},
     "output_type": "execute_result"
    },
    {
     "data": {
      "image/png": "[encoded data removed]",
      "text/plain": [
       "<Figure size 640x480 with 1 Axes>"
      ]
     },
     "metadata": {},
     "output_type": "display_data"
    }
   ],
   "source": [
    "data.groupby(['country'])['is_canceled'].count().plot(kind='pie')\n"
   ]
  },
  {
   "cell_type": "code",
   "execution_count": 31,
   "id": "032f4092",
   "metadata": {},
   "outputs": [
    {
     "data": {
      "text/plain": [
       "<Axes: xlabel='stays_in_weekend_nights'>"
      ]
     },
     "execution_count": 31,
     "metadata": {},
     "output_type": "execute_result"
    },
    {
     "data": {
      "image/png": "[encoded data removed]",
      "text/plain": [
       "<Figure size 640x480 with 1 Axes>"
      ]
     },
     "metadata": {},
     "output_type": "display_data"
    }
   ],
   "source": [
    "data.groupby('stays_in_weekend_nights')['is_canceled'].count().plot(kind='bar')"
   ]
  },
  {
   "cell_type": "code",
   "execution_count": 32,
   "id": "493bf4be",
   "metadata": {},
   "outputs": [
    {
     "data": {
      "text/plain": [
       "<Axes: xlabel='stays_in_week_nights'>"
      ]
     },
     "execution_count": 32,
     "metadata": {},
     "output_type": "execute_result"
    },
    {
     "data": {
      "image/png": "[encoded data removed]",
      "text/plain": [
       "<Figure size 640x480 with 1 Axes>"
      ]
     },
     "metadata": {},
     "output_type": "display_data"
    }
   ],
   "source": [
    "data.groupby('stays_in_week_nights')['is_canceled'].count().plot(kind='bar')"
   ]
  }
 ],
 "metadata": {
  "kernelspec": {
   "display_name": "test_env",
   "language": "python",
   "name": "python3"
  },
  "language_info": {
   "codemirror_mode": {
    "name": "ipython",
    "version": 3
   },
   "file_extension": ".py",
   "mimetype": "text/x-python",
   "name": "python",
   "nbconvert_exporter": "python",
   "pygments_lexer": "ipython3",
   "version": "3.11.13"
  }
 },
 "nbformat": 4,
 "nbformat_minor": 5
}
